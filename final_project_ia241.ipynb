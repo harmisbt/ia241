{
 "cells": [
  {
   "cell_type": "markdown",
   "id": "2be8b449",
   "metadata": {},
   "source": [
    "# COVID-19 Data in Italy"
   ]
  },
  {
   "cell_type": "markdown",
   "id": "cbf5323b",
   "metadata": {},
   "source": [
    "![covid19 and italy image](https://static01.nyt.com/images/2020/04/13/us/coronavirus-italy-cases-promo-1586819498192/coronavirus-italy-cases-promo-1586819498192-videoSixteenByNineJumbo1600-v244.png)"
   ]
  },
  {
   "cell_type": "markdown",
   "id": "9f99952b",
   "metadata": {},
   "source": [
    "## Introduction and COVID-19 Background"
   ]
  },
  {
   "cell_type": "markdown",
   "id": "239639ef",
   "metadata": {},
   "source": [
    "Coronavirus disease (COVID-19) is an infectious disease caused by a newly discovered coronavirus, SARS-CoV-2. The COVID-19 virus spreads primarily through droplets of saliva or discharge from the nose when an infected person coughs or sneezes. As of May 2nd, 2021 153,362,237 cases of COVID-19 have been documented in the world.\n",
    "\n",
    "Since early 2020 the impact of COVID-19 has brought virtual learning to millions of students in the U.S. in both public schools and higher education, it has flooded healthcare systems, caused an economic shutdown and a crisis for all workers and business owners in the U.S. and abroad, and brought a time of social distancing and isolation. With the first death of COVID-19 in the U.S. occurring on February 6th, 2020 the U.S. and the rest of the world has now undergone the pandemic for over a year.\n",
    "\n",
    "Source: World Health Organization (WHO)"
   ]
  },
  {
   "cell_type": "markdown",
   "id": "12e4c52d",
   "metadata": {},
   "source": [
    "## Data Source"
   ]
  },
  {
   "cell_type": "markdown",
   "id": "bed7704a",
   "metadata": {},
   "source": [
    "The Data is from [European Centre for Disease Prevention and Control](https://www.nytimes.com/interactive/2020/world/europe/italy-coronavirus-cases.html)"
   ]
  },
  {
   "cell_type": "code",
   "execution_count": 5,
   "id": "f45fee14",
   "metadata": {},
   "outputs": [],
   "source": [
    "%matplotlib inline\n",
    "import pandas"
   ]
  },
  {
   "cell_type": "markdown",
   "id": "cbff6b54",
   "metadata": {},
   "source": [
    "## A Quick View of the Data"
   ]
  },
  {
   "cell_type": "markdown",
   "id": "9134f41b",
   "metadata": {},
   "source": [
    "This is a small look into the data collected by the data source (European Centre for Disease Prevention and Control) as it focused it efforts to gather COVID-19 data from countries across the world."
   ]
  },
  {
   "cell_type": "code",
   "execution_count": 6,
   "id": "39cb70c8",
   "metadata": {
    "scrolled": false
   },
   "outputs": [
    {
     "name": "stderr",
     "output_type": "stream",
     "text": [
      "/home/ec2-user/anaconda3/envs/python2/lib/python2.7/site-packages/OpenSSL/crypto.py:12: CryptographyDeprecationWarning: Python 2 is no longer supported by the Python core team. Support for it is now deprecated in cryptography, and will be removed in the next release.\n",
      "  from cryptography import x509\n"
     ]
    },
    {
     "data": {
      "text/html": [
       "<div>\n",
       "<style scoped>\n",
       "    .dataframe tbody tr th:only-of-type {\n",
       "        vertical-align: middle;\n",
       "    }\n",
       "\n",
       "    .dataframe tbody tr th {\n",
       "        vertical-align: top;\n",
       "    }\n",
       "\n",
       "    .dataframe thead th {\n",
       "        text-align: right;\n",
       "    }\n",
       "</style>\n",
       "<table border=\"1\" class=\"dataframe\">\n",
       "  <thead>\n",
       "    <tr style=\"text-align: right;\">\n",
       "      <th></th>\n",
       "      <th>dateRep</th>\n",
       "      <th>day</th>\n",
       "      <th>month</th>\n",
       "      <th>year</th>\n",
       "      <th>cases</th>\n",
       "      <th>deaths</th>\n",
       "      <th>countriesAndTerritories</th>\n",
       "      <th>geoId</th>\n",
       "      <th>countryterritoryCode</th>\n",
       "      <th>popData2019</th>\n",
       "      <th>continentExp</th>\n",
       "      <th>Cumulative_number_for_14_days_of_COVID-19_cases_per_100000</th>\n",
       "    </tr>\n",
       "  </thead>\n",
       "  <tbody>\n",
       "    <tr>\n",
       "      <th>0</th>\n",
       "      <td>2020-12-14</td>\n",
       "      <td>14</td>\n",
       "      <td>12</td>\n",
       "      <td>2020</td>\n",
       "      <td>746</td>\n",
       "      <td>6</td>\n",
       "      <td>Afghanistan</td>\n",
       "      <td>AF</td>\n",
       "      <td>AFG</td>\n",
       "      <td>38041757.0</td>\n",
       "      <td>Asia</td>\n",
       "      <td>9.013779</td>\n",
       "    </tr>\n",
       "    <tr>\n",
       "      <th>1</th>\n",
       "      <td>2020-12-13</td>\n",
       "      <td>13</td>\n",
       "      <td>12</td>\n",
       "      <td>2020</td>\n",
       "      <td>298</td>\n",
       "      <td>9</td>\n",
       "      <td>Afghanistan</td>\n",
       "      <td>AF</td>\n",
       "      <td>AFG</td>\n",
       "      <td>38041757.0</td>\n",
       "      <td>Asia</td>\n",
       "      <td>7.052776</td>\n",
       "    </tr>\n",
       "    <tr>\n",
       "      <th>2</th>\n",
       "      <td>2020-12-12</td>\n",
       "      <td>12</td>\n",
       "      <td>12</td>\n",
       "      <td>2020</td>\n",
       "      <td>113</td>\n",
       "      <td>11</td>\n",
       "      <td>Afghanistan</td>\n",
       "      <td>AF</td>\n",
       "      <td>AFG</td>\n",
       "      <td>38041757.0</td>\n",
       "      <td>Asia</td>\n",
       "      <td>6.868768</td>\n",
       "    </tr>\n",
       "    <tr>\n",
       "      <th>3</th>\n",
       "      <td>2020-12-11</td>\n",
       "      <td>11</td>\n",
       "      <td>12</td>\n",
       "      <td>2020</td>\n",
       "      <td>63</td>\n",
       "      <td>10</td>\n",
       "      <td>Afghanistan</td>\n",
       "      <td>AF</td>\n",
       "      <td>AFG</td>\n",
       "      <td>38041757.0</td>\n",
       "      <td>Asia</td>\n",
       "      <td>7.134266</td>\n",
       "    </tr>\n",
       "    <tr>\n",
       "      <th>4</th>\n",
       "      <td>2020-12-10</td>\n",
       "      <td>10</td>\n",
       "      <td>12</td>\n",
       "      <td>2020</td>\n",
       "      <td>202</td>\n",
       "      <td>16</td>\n",
       "      <td>Afghanistan</td>\n",
       "      <td>AF</td>\n",
       "      <td>AFG</td>\n",
       "      <td>38041757.0</td>\n",
       "      <td>Asia</td>\n",
       "      <td>6.968658</td>\n",
       "    </tr>\n",
       "    <tr>\n",
       "      <th>5</th>\n",
       "      <td>2020-12-09</td>\n",
       "      <td>9</td>\n",
       "      <td>12</td>\n",
       "      <td>2020</td>\n",
       "      <td>135</td>\n",
       "      <td>13</td>\n",
       "      <td>Afghanistan</td>\n",
       "      <td>AF</td>\n",
       "      <td>AFG</td>\n",
       "      <td>38041757.0</td>\n",
       "      <td>Asia</td>\n",
       "      <td>6.963401</td>\n",
       "    </tr>\n",
       "    <tr>\n",
       "      <th>6</th>\n",
       "      <td>2020-12-08</td>\n",
       "      <td>8</td>\n",
       "      <td>12</td>\n",
       "      <td>2020</td>\n",
       "      <td>200</td>\n",
       "      <td>6</td>\n",
       "      <td>Afghanistan</td>\n",
       "      <td>AF</td>\n",
       "      <td>AFG</td>\n",
       "      <td>38041757.0</td>\n",
       "      <td>Asia</td>\n",
       "      <td>7.094835</td>\n",
       "    </tr>\n",
       "    <tr>\n",
       "      <th>7</th>\n",
       "      <td>2020-12-07</td>\n",
       "      <td>7</td>\n",
       "      <td>12</td>\n",
       "      <td>2020</td>\n",
       "      <td>210</td>\n",
       "      <td>26</td>\n",
       "      <td>Afghanistan</td>\n",
       "      <td>AF</td>\n",
       "      <td>AFG</td>\n",
       "      <td>38041757.0</td>\n",
       "      <td>Asia</td>\n",
       "      <td>7.215755</td>\n",
       "    </tr>\n",
       "    <tr>\n",
       "      <th>8</th>\n",
       "      <td>2020-12-06</td>\n",
       "      <td>6</td>\n",
       "      <td>12</td>\n",
       "      <td>2020</td>\n",
       "      <td>234</td>\n",
       "      <td>10</td>\n",
       "      <td>Afghanistan</td>\n",
       "      <td>AF</td>\n",
       "      <td>AFG</td>\n",
       "      <td>38041757.0</td>\n",
       "      <td>Asia</td>\n",
       "      <td>7.326160</td>\n",
       "    </tr>\n",
       "    <tr>\n",
       "      <th>9</th>\n",
       "      <td>2020-12-05</td>\n",
       "      <td>5</td>\n",
       "      <td>12</td>\n",
       "      <td>2020</td>\n",
       "      <td>235</td>\n",
       "      <td>18</td>\n",
       "      <td>Afghanistan</td>\n",
       "      <td>AF</td>\n",
       "      <td>AFG</td>\n",
       "      <td>38041757.0</td>\n",
       "      <td>Asia</td>\n",
       "      <td>7.115865</td>\n",
       "    </tr>\n",
       "  </tbody>\n",
       "</table>\n",
       "</div>"
      ],
      "text/plain": [
       "     dateRep  day  month  year  cases  deaths countriesAndTerritories geoId  \\\n",
       "0 2020-12-14   14     12  2020    746       6             Afghanistan    AF   \n",
       "1 2020-12-13   13     12  2020    298       9             Afghanistan    AF   \n",
       "2 2020-12-12   12     12  2020    113      11             Afghanistan    AF   \n",
       "3 2020-12-11   11     12  2020     63      10             Afghanistan    AF   \n",
       "4 2020-12-10   10     12  2020    202      16             Afghanistan    AF   \n",
       "5 2020-12-09    9     12  2020    135      13             Afghanistan    AF   \n",
       "6 2020-12-08    8     12  2020    200       6             Afghanistan    AF   \n",
       "7 2020-12-07    7     12  2020    210      26             Afghanistan    AF   \n",
       "8 2020-12-06    6     12  2020    234      10             Afghanistan    AF   \n",
       "9 2020-12-05    5     12  2020    235      18             Afghanistan    AF   \n",
       "\n",
       "  countryterritoryCode  popData2019 continentExp  \\\n",
       "0                  AFG   38041757.0         Asia   \n",
       "1                  AFG   38041757.0         Asia   \n",
       "2                  AFG   38041757.0         Asia   \n",
       "3                  AFG   38041757.0         Asia   \n",
       "4                  AFG   38041757.0         Asia   \n",
       "5                  AFG   38041757.0         Asia   \n",
       "6                  AFG   38041757.0         Asia   \n",
       "7                  AFG   38041757.0         Asia   \n",
       "8                  AFG   38041757.0         Asia   \n",
       "9                  AFG   38041757.0         Asia   \n",
       "\n",
       "   Cumulative_number_for_14_days_of_COVID-19_cases_per_100000  \n",
       "0                                           9.013779           \n",
       "1                                           7.052776           \n",
       "2                                           6.868768           \n",
       "3                                           7.134266           \n",
       "4                                           6.968658           \n",
       "5                                           6.963401           \n",
       "6                                           7.094835           \n",
       "7                                           7.215755           \n",
       "8                                           7.326160           \n",
       "9                                           7.115865           "
      ]
     },
     "execution_count": 6,
     "metadata": {},
     "output_type": "execute_result"
    }
   ],
   "source": [
    "df = pandas.read_excel('s3://harmison-ia241-2021-spring/COVID-19-geographic-disbtribution-worldwide-2020-12-14.xlsx')\n",
    "df[:10]"
   ]
  },
  {
   "cell_type": "markdown",
   "id": "7e22261c",
   "metadata": {},
   "source": [
    "The European Centre for Disease Prevention and Control focused on several aspects surrounding the COVID-19 pandemic such within individual countries and territories. This small depiction of the data shows Afghanistan and some of the relevant data from 2020."
   ]
  },
  {
   "cell_type": "markdown",
   "id": "4f73fc13",
   "metadata": {},
   "source": [
    "## Italy's COVID-19 Data"
   ]
  },
  {
   "cell_type": "markdown",
   "id": "0548ae1d",
   "metadata": {},
   "source": [
    "This is a small portion of the data collected by the ECDC on Italy. This was displayed by specifying the command to pull the data from only Italy by specifying it from the \"countriesAndTerritories\" column of data. By adjustig the data frame the display shows 10 days of output data on the COVID-19 virus in Italy."
   ]
  },
  {
   "cell_type": "code",
   "execution_count": 7,
   "id": "683c97e8",
   "metadata": {
    "scrolled": true
   },
   "outputs": [
    {
     "data": {
      "text/html": [
       "<div>\n",
       "<style scoped>\n",
       "    .dataframe tbody tr th:only-of-type {\n",
       "        vertical-align: middle;\n",
       "    }\n",
       "\n",
       "    .dataframe tbody tr th {\n",
       "        vertical-align: top;\n",
       "    }\n",
       "\n",
       "    .dataframe thead th {\n",
       "        text-align: right;\n",
       "    }\n",
       "</style>\n",
       "<table border=\"1\" class=\"dataframe\">\n",
       "  <thead>\n",
       "    <tr style=\"text-align: right;\">\n",
       "      <th></th>\n",
       "      <th>dateRep</th>\n",
       "      <th>day</th>\n",
       "      <th>month</th>\n",
       "      <th>year</th>\n",
       "      <th>cases</th>\n",
       "      <th>deaths</th>\n",
       "      <th>countriesAndTerritories</th>\n",
       "      <th>geoId</th>\n",
       "      <th>countryterritoryCode</th>\n",
       "      <th>popData2019</th>\n",
       "      <th>continentExp</th>\n",
       "      <th>Cumulative_number_for_14_days_of_COVID-19_cases_per_100000</th>\n",
       "    </tr>\n",
       "  </thead>\n",
       "  <tbody>\n",
       "    <tr>\n",
       "      <th>29099</th>\n",
       "      <td>2020-12-14</td>\n",
       "      <td>14</td>\n",
       "      <td>12</td>\n",
       "      <td>2020</td>\n",
       "      <td>17937</td>\n",
       "      <td>484</td>\n",
       "      <td>Italy</td>\n",
       "      <td>IT</td>\n",
       "      <td>ITA</td>\n",
       "      <td>60359546.0</td>\n",
       "      <td>Europe</td>\n",
       "      <td>428.323301</td>\n",
       "    </tr>\n",
       "    <tr>\n",
       "      <th>29100</th>\n",
       "      <td>2020-12-13</td>\n",
       "      <td>13</td>\n",
       "      <td>12</td>\n",
       "      <td>2020</td>\n",
       "      <td>19902</td>\n",
       "      <td>649</td>\n",
       "      <td>Italy</td>\n",
       "      <td>IT</td>\n",
       "      <td>ITA</td>\n",
       "      <td>60359546.0</td>\n",
       "      <td>Europe</td>\n",
       "      <td>432.811406</td>\n",
       "    </tr>\n",
       "    <tr>\n",
       "      <th>29101</th>\n",
       "      <td>2020-12-12</td>\n",
       "      <td>12</td>\n",
       "      <td>12</td>\n",
       "      <td>2020</td>\n",
       "      <td>18726</td>\n",
       "      <td>761</td>\n",
       "      <td>Italy</td>\n",
       "      <td>IT</td>\n",
       "      <td>ITA</td>\n",
       "      <td>60359546.0</td>\n",
       "      <td>Europe</td>\n",
       "      <td>443.436072</td>\n",
       "    </tr>\n",
       "    <tr>\n",
       "      <th>29102</th>\n",
       "      <td>2020-12-11</td>\n",
       "      <td>11</td>\n",
       "      <td>12</td>\n",
       "      <td>2020</td>\n",
       "      <td>16998</td>\n",
       "      <td>887</td>\n",
       "      <td>Italy</td>\n",
       "      <td>IT</td>\n",
       "      <td>ITA</td>\n",
       "      <td>60359546.0</td>\n",
       "      <td>Europe</td>\n",
       "      <td>459.367272</td>\n",
       "    </tr>\n",
       "    <tr>\n",
       "      <th>29103</th>\n",
       "      <td>2020-12-10</td>\n",
       "      <td>10</td>\n",
       "      <td>12</td>\n",
       "      <td>2020</td>\n",
       "      <td>12755</td>\n",
       "      <td>499</td>\n",
       "      <td>Italy</td>\n",
       "      <td>IT</td>\n",
       "      <td>ITA</td>\n",
       "      <td>60359546.0</td>\n",
       "      <td>Europe</td>\n",
       "      <td>479.253108</td>\n",
       "    </tr>\n",
       "    <tr>\n",
       "      <th>29104</th>\n",
       "      <td>2020-12-09</td>\n",
       "      <td>9</td>\n",
       "      <td>12</td>\n",
       "      <td>2020</td>\n",
       "      <td>14837</td>\n",
       "      <td>634</td>\n",
       "      <td>Italy</td>\n",
       "      <td>IT</td>\n",
       "      <td>ITA</td>\n",
       "      <td>60359546.0</td>\n",
       "      <td>Europe</td>\n",
       "      <td>500.951415</td>\n",
       "    </tr>\n",
       "    <tr>\n",
       "      <th>29105</th>\n",
       "      <td>2020-12-08</td>\n",
       "      <td>8</td>\n",
       "      <td>12</td>\n",
       "      <td>2020</td>\n",
       "      <td>13679</td>\n",
       "      <td>528</td>\n",
       "      <td>Italy</td>\n",
       "      <td>IT</td>\n",
       "      <td>ITA</td>\n",
       "      <td>60359546.0</td>\n",
       "      <td>Europe</td>\n",
       "      <td>514.851454</td>\n",
       "    </tr>\n",
       "    <tr>\n",
       "      <th>29106</th>\n",
       "      <td>2020-12-07</td>\n",
       "      <td>7</td>\n",
       "      <td>12</td>\n",
       "      <td>2020</td>\n",
       "      <td>18887</td>\n",
       "      <td>564</td>\n",
       "      <td>Italy</td>\n",
       "      <td>IT</td>\n",
       "      <td>ITA</td>\n",
       "      <td>60359546.0</td>\n",
       "      <td>Europe</td>\n",
       "      <td>530.172974</td>\n",
       "    </tr>\n",
       "    <tr>\n",
       "      <th>29107</th>\n",
       "      <td>2020-12-06</td>\n",
       "      <td>6</td>\n",
       "      <td>12</td>\n",
       "      <td>2020</td>\n",
       "      <td>21052</td>\n",
       "      <td>662</td>\n",
       "      <td>Italy</td>\n",
       "      <td>IT</td>\n",
       "      <td>ITA</td>\n",
       "      <td>60359546.0</td>\n",
       "      <td>Europe</td>\n",
       "      <td>545.829155</td>\n",
       "    </tr>\n",
       "    <tr>\n",
       "      <th>29108</th>\n",
       "      <td>2020-12-05</td>\n",
       "      <td>5</td>\n",
       "      <td>12</td>\n",
       "      <td>2020</td>\n",
       "      <td>24110</td>\n",
       "      <td>814</td>\n",
       "      <td>Italy</td>\n",
       "      <td>IT</td>\n",
       "      <td>ITA</td>\n",
       "      <td>60359546.0</td>\n",
       "      <td>Europe</td>\n",
       "      <td>568.546357</td>\n",
       "    </tr>\n",
       "  </tbody>\n",
       "</table>\n",
       "</div>"
      ],
      "text/plain": [
       "         dateRep  day  month  year  cases  deaths countriesAndTerritories  \\\n",
       "29099 2020-12-14   14     12  2020  17937     484                   Italy   \n",
       "29100 2020-12-13   13     12  2020  19902     649                   Italy   \n",
       "29101 2020-12-12   12     12  2020  18726     761                   Italy   \n",
       "29102 2020-12-11   11     12  2020  16998     887                   Italy   \n",
       "29103 2020-12-10   10     12  2020  12755     499                   Italy   \n",
       "29104 2020-12-09    9     12  2020  14837     634                   Italy   \n",
       "29105 2020-12-08    8     12  2020  13679     528                   Italy   \n",
       "29106 2020-12-07    7     12  2020  18887     564                   Italy   \n",
       "29107 2020-12-06    6     12  2020  21052     662                   Italy   \n",
       "29108 2020-12-05    5     12  2020  24110     814                   Italy   \n",
       "\n",
       "      geoId countryterritoryCode  popData2019 continentExp  \\\n",
       "29099    IT                  ITA   60359546.0       Europe   \n",
       "29100    IT                  ITA   60359546.0       Europe   \n",
       "29101    IT                  ITA   60359546.0       Europe   \n",
       "29102    IT                  ITA   60359546.0       Europe   \n",
       "29103    IT                  ITA   60359546.0       Europe   \n",
       "29104    IT                  ITA   60359546.0       Europe   \n",
       "29105    IT                  ITA   60359546.0       Europe   \n",
       "29106    IT                  ITA   60359546.0       Europe   \n",
       "29107    IT                  ITA   60359546.0       Europe   \n",
       "29108    IT                  ITA   60359546.0       Europe   \n",
       "\n",
       "       Cumulative_number_for_14_days_of_COVID-19_cases_per_100000  \n",
       "29099                                         428.323301           \n",
       "29100                                         432.811406           \n",
       "29101                                         443.436072           \n",
       "29102                                         459.367272           \n",
       "29103                                         479.253108           \n",
       "29104                                         500.951415           \n",
       "29105                                         514.851454           \n",
       "29106                                         530.172974           \n",
       "29107                                         545.829155           \n",
       "29108                                         568.546357           "
      ]
     },
     "execution_count": 7,
     "metadata": {},
     "output_type": "execute_result"
    }
   ],
   "source": [
    "italy_data = df.loc[ df['countriesAndTerritories']=='Italy' ]\n",
    "\n",
    "italy_data[:10]"
   ]
  },
  {
   "cell_type": "markdown",
   "id": "7ce95b9b",
   "metadata": {},
   "source": [
    "## The Sum of COVID19 Cases in Italy as of December 2020"
   ]
  },
  {
   "cell_type": "markdown",
   "id": "26c8bb36",
   "metadata": {},
   "source": [
    "This code identifies the total number of COVID-19 cases that have been diagnosed in Italy as of December 2020. This was calculated by submitting a sum code for the Italy data column listed as \"cases\"."
   ]
  },
  {
   "cell_type": "code",
   "execution_count": 8,
   "id": "ad7e0963",
   "metadata": {
    "scrolled": true
   },
   "outputs": [
    {
     "data": {
      "text/plain": [
       "1843712.0"
      ]
     },
     "execution_count": 8,
     "metadata": {},
     "output_type": "execute_result"
    }
   ],
   "source": [
    "italy_data.sum()['cases']"
   ]
  },
  {
   "cell_type": "markdown",
   "id": "cf6d2151",
   "metadata": {},
   "source": [
    "The output of this code depicts that there have been 1843712.0 COVID-19 cases in Italy since December 2020. Compared to their total population in 2019 (60,359,546.0) the percentage of the population who have been diagnosed with COVID-19 as of December 2020 was 3.0545%. "
   ]
  },
  {
   "cell_type": "markdown",
   "id": "90e93165",
   "metadata": {},
   "source": [
    "## Trend of COVID-19 Cases in Italy as of December 2020"
   ]
  },
  {
   "cell_type": "markdown",
   "id": "2b4bec44",
   "metadata": {},
   "source": [
    "This code depicts the trend of diagnosed COVID-19 cases in Italy as of December 2020. This was calculated by grouping by the sum of the 'dateRep' of the 'cases' and assigning it to the variable 'sum_cases_per_day. Then creating a line chart depicting the results."
   ]
  },
  {
   "cell_type": "code",
   "execution_count": 9,
   "id": "b2bc5b5a",
   "metadata": {},
   "outputs": [],
   "source": [
    "sum_cases_per_day=italy_data.groupby('dateRep').sum()['cases']"
   ]
  },
  {
   "cell_type": "code",
   "execution_count": 10,
   "id": "e5259b5a",
   "metadata": {
    "scrolled": false
   },
   "outputs": [
    {
     "data": {
      "text/plain": [
       "<matplotlib.axes._subplots.AxesSubplot at 0x7eff4dd7f790>"
      ]
     },
     "execution_count": 10,
     "metadata": {},
     "output_type": "execute_result"
    },
    {
     "data": {
      "image/png": "[encoded data removed]",
      "text/plain": [
       "<Figure size 432x288 with 1 Axes>"
      ]
     },
     "metadata": {
      "needs_background": "light"
     },
     "output_type": "display_data"
    }
   ],
   "source": [
    "sum_cases_per_day.plot()"
   ]
  },
  {
   "cell_type": "markdown",
   "id": "9ad548b4",
   "metadata": {},
   "source": [
    "Indicating the trend of COVID-19 cases in Italy as of December 2020 this line graph depicts an overall increase increase in cases with two prominent spikes in cases, the frist from March to May and the second from October to November. The highest peak of cases in Italy occured in November, surpassing 40,000 cases per day."
   ]
  },
  {
   "cell_type": "markdown",
   "id": "e76db742",
   "metadata": {},
   "source": [
    "## The Sum of COVID-19 Deaths in Italy as of December 2020"
   ]
  },
  {
   "cell_type": "markdown",
   "id": "247f6fe8",
   "metadata": {},
   "source": [
    "This code identifies the total number of COVID-19 deaths that have been confirmed in Italy as of December 2020. This was calculated by submitting a sum code for the Italy data column listed as \"deaths\"."
   ]
  },
  {
   "cell_type": "code",
   "execution_count": 11,
   "id": "105e35c5",
   "metadata": {},
   "outputs": [
    {
     "data": {
      "text/plain": [
       "64520.0"
      ]
     },
     "execution_count": 11,
     "metadata": {},
     "output_type": "execute_result"
    }
   ],
   "source": [
    "italy_data.sum()['deaths']"
   ]
  },
  {
   "cell_type": "markdown",
   "id": "f949aca7",
   "metadata": {},
   "source": [
    "The output of this code depicts that there have been 64,520.0 COVID-19 deaths in Italy since December 2020. Compared to their total population in 2019 (60,359,546.0) the percentage of the population who have died from COVID-19 as of December 2020 was 0.0010689%. Compared to the total number of cases in Italy as of December 2020 the percentage of deaths of the infected population was 0.03499%."
   ]
  },
  {
   "cell_type": "markdown",
   "id": "794ee182",
   "metadata": {},
   "source": [
    "## Trend of COVID-19 Deaths in Italy as of December 2020"
   ]
  },
  {
   "cell_type": "markdown",
   "id": "b6c77085",
   "metadata": {},
   "source": [
    "This code depicts the trend of COVID-19 deaths in Italy as of December 2020. This was calculated by grouping by the sum of the 'dateRep' of the 'deaths' and assigning it to the variable 'sum_deaths_per_day. Then creating a line chart depicting the results."
   ]
  },
  {
   "cell_type": "code",
   "execution_count": 12,
   "id": "db154d0c",
   "metadata": {},
   "outputs": [],
   "source": [
    "sum_deaths_per_day=italy_data.groupby('dateRep').sum()['deaths']"
   ]
  },
  {
   "cell_type": "code",
   "execution_count": 13,
   "id": "de6954cd",
   "metadata": {},
   "outputs": [
    {
     "data": {
      "text/plain": [
       "<matplotlib.axes._subplots.AxesSubplot at 0x7eff50fc9350>"
      ]
     },
     "execution_count": 13,
     "metadata": {},
     "output_type": "execute_result"
    },
    {
     "data": {
      "image/png": "[encoded data removed]",
      "text/plain": [
       "<Figure size 432x288 with 1 Axes>"
      ]
     },
     "metadata": {
      "needs_background": "light"
     },
     "output_type": "display_data"
    }
   ],
   "source": [
    "sum_deaths_per_day.plot()"
   ]
  },
  {
   "cell_type": "markdown",
   "id": "1475b944",
   "metadata": {},
   "source": [
    "Indicating the trend of COVID-19 deaths in Italy as of December 2020 this line graph depicts the fluctuation of the amount of death per day due to COVID-19. During this time span there were two large spikes in COVID-19 deaths, the first from March to May and from November to December."
   ]
  },
  {
   "cell_type": "markdown",
   "id": "a810db97",
   "metadata": {},
   "source": [
    "## The Number of Deaths related to the Number of Cases in Italy over time"
   ]
  },
  {
   "cell_type": "markdown",
   "id": "1401c6e1",
   "metadata": {},
   "source": [
    "This code depicts the trend of COVID-19 deaths in relation to the trend of cases in Italy as of December 2020. This was calculated by using the Italy COVID-19 data and assigning variables to the number of deaths, number of cases, and time in months (x=# of cases, y=# of deaths, and c=months) and then creating a scatter plot to best show this relationship."
   ]
  },
  {
   "cell_type": "code",
   "execution_count": 14,
   "id": "f232edfa",
   "metadata": {
    "scrolled": true
   },
   "outputs": [
    {
     "data": {
      "text/plain": [
       "<matplotlib.axes._subplots.AxesSubplot at 0x7eff4e011b50>"
      ]
     },
     "execution_count": 14,
     "metadata": {},
     "output_type": "execute_result"
    },
    {
     "data": {
      "image/png": "[encoded data removed]",
      "text/plain": [
       "<Figure size 432x288 with 2 Axes>"
      ]
     },
     "metadata": {
      "needs_background": "light"
     },
     "output_type": "display_data"
    }
   ],
   "source": [
    "italy_data.plot.scatter(x='cases',y='deaths',c='month')"
   ]
  },
  {
   "cell_type": "markdown",
   "id": "1eadad62",
   "metadata": {},
   "source": [
    "The scatter plot diagram higlights the high number of deaths similar to the high number of cases in Feburary and March of 2020. Later in the year the diagram higlights the gradual decrease of deaths per cases as cases begina to also decrease in Italy. The amount of deaths correlated with the increase of cases in Italy."
   ]
  },
  {
   "cell_type": "markdown",
   "id": "6ea08223",
   "metadata": {},
   "source": [
    "## Conclusion, Limitations, and Further Research"
   ]
  },
  {
   "cell_type": "markdown",
   "id": "a472a811",
   "metadata": {},
   "source": [
    "In conclusion, the European Centre for Disease Prevention and Control(ECDC) provided comprehensive data regarding countries all over the world and the effects of the COVID-19 pandemic on the population. Specifically focusing on Italy this analysis covers the total number of COVID-19 cases and the trend of the diagnoses over time, the total number of COVID-19 related deaths in Italy and the trend of deaths over time, and the overall number of deaths in relation to the number of cases of COVID-19 in Italy as of December 2020.\n",
    "\n",
    "Limitations to this research is that the data was only on countries as a whole and not smaller states, provinces, or regions. Including this specification would allow for more analysis on specific regions which may be experiencing the pandemic differently.\n",
    "\n",
    "Suggestions for further research would be to include more specifcation within countries and their data and begin to look at the age groups of both individiuals who were diagnoaed and died as a result of COVID-19. These further research sugestions would allow for health care practioners and government officials to better equip the healthcare system and constituents of their country with healthy and safe habits to prevent COVID-19."
   ]
  },
  {
   "cell_type": "code",
   "execution_count": null,
   "id": "3b61b6f8",
   "metadata": {},
   "outputs": [],
   "source": []
  }
 ],
 "metadata": {
  "kernelspec": {
   "display_name": "conda_python2",
   "language": "python",
   "name": "conda_python2"
  },
  "language_info": {
   "codemirror_mode": {
    "name": "ipython",
    "version": 2
   },
   "file_extension": ".py",
   "mimetype": "text/x-python",
   "name": "python",
   "nbconvert_exporter": "python",
   "pygments_lexer": "ipython2",
   "version": "2.7.16"
  }
 },
 "nbformat": 4,
 "nbformat_minor": 5
}
